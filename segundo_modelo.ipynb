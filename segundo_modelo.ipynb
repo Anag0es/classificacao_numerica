{
 "cells": [
  {
   "cell_type": "markdown",
   "metadata": {},
   "source": [
    "# Classificação Numérica - Rede Neural"
   ]
  },
  {
   "cell_type": "code",
   "execution_count": 1,
   "metadata": {},
   "outputs": [
    {
     "name": "stdout",
     "output_type": "stream",
     "text": [
      "Requirement already satisfied: torch in c:\\users\\inteli\\appdata\\local\\programs\\python\\python39\\lib\\site-packages (2.1.1)\n",
      "Requirement already satisfied: jinja2 in c:\\users\\inteli\\appdata\\local\\programs\\python\\python39\\lib\\site-packages (from torch) (3.1.2)\n",
      "Requirement already satisfied: filelock in c:\\users\\inteli\\appdata\\local\\programs\\python\\python39\\lib\\site-packages (from torch) (3.13.1)\n",
      "Requirement already satisfied: fsspec in c:\\users\\inteli\\appdata\\local\\programs\\python\\python39\\lib\\site-packages (from torch) (2023.10.0)\n",
      "Requirement already satisfied: typing-extensions in c:\\users\\inteli\\appdata\\roaming\\python\\python39\\site-packages (from torch) (4.7.1)\n",
      "Requirement already satisfied: networkx in c:\\users\\inteli\\appdata\\local\\programs\\python\\python39\\lib\\site-packages (from torch) (3.1)\n",
      "Requirement already satisfied: sympy in c:\\users\\inteli\\appdata\\local\\programs\\python\\python39\\lib\\site-packages (from torch) (1.12)\n",
      "Requirement already satisfied: MarkupSafe>=2.0 in c:\\users\\inteli\\appdata\\local\\programs\\python\\python39\\lib\\site-packages (from jinja2->torch) (2.1.3)\n",
      "Requirement already satisfied: mpmath>=0.19 in c:\\users\\inteli\\appdata\\local\\programs\\python\\python39\\lib\\site-packages (from sympy->torch) (1.3.0)\n",
      "Note: you may need to restart the kernel to use updated packages.\n"
     ]
    },
    {
     "name": "stderr",
     "output_type": "stream",
     "text": [
      "WARNING: You are using pip version 21.2.4; however, version 23.3.1 is available.\n",
      "You should consider upgrading via the 'c:\\Users\\Inteli\\AppData\\Local\\Programs\\Python\\Python39\\python.exe -m pip install --upgrade pip' command.\n"
     ]
    },
    {
     "name": "stdout",
     "output_type": "stream",
     "text": [
      "Requirement already satisfied: torchvision in c:\\users\\inteli\\appdata\\local\\programs\\python\\python39\\lib\\site-packages (0.16.1)\n",
      "Requirement already satisfied: requests in c:\\users\\inteli\\appdata\\local\\programs\\python\\python39\\lib\\site-packages (from torchvision) (2.31.0)\n",
      "Requirement already satisfied: numpy in c:\\users\\inteli\\appdata\\local\\programs\\python\\python39\\lib\\site-packages (from torchvision) (1.23.5)\n",
      "Requirement already satisfied: torch==2.1.1 in c:\\users\\inteli\\appdata\\local\\programs\\python\\python39\\lib\\site-packages (from torchvision) (2.1.1)\n",
      "Requirement already satisfied: pillow!=8.3.*,>=5.3.0 in c:\\users\\inteli\\appdata\\local\\programs\\python\\python39\\lib\\site-packages (from torchvision) (10.0.0)\n",
      "Requirement already satisfied: fsspec in c:\\users\\inteli\\appdata\\local\\programs\\python\\python39\\lib\\site-packages (from torch==2.1.1->torchvision) (2023.10.0)\n",
      "Requirement already satisfied: sympy in c:\\users\\inteli\\appdata\\local\\programs\\python\\python39\\lib\\site-packages (from torch==2.1.1->torchvision) (1.12)\n",
      "Requirement already satisfied: filelock in c:\\users\\inteli\\appdata\\local\\programs\\python\\python39\\lib\\site-packages (from torch==2.1.1->torchvision) (3.13.1)\n",
      "Requirement already satisfied: networkx in c:\\users\\inteli\\appdata\\local\\programs\\python\\python39\\lib\\site-packages (from torch==2.1.1->torchvision) (3.1)\n",
      "Requirement already satisfied: typing-extensions in c:\\users\\inteli\\appdata\\roaming\\python\\python39\\site-packages (from torch==2.1.1->torchvision) (4.7.1)\n",
      "Requirement already satisfied: jinja2 in c:\\users\\inteli\\appdata\\local\\programs\\python\\python39\\lib\\site-packages (from torch==2.1.1->torchvision) (3.1.2)\n",
      "Requirement already satisfied: MarkupSafe>=2.0 in c:\\users\\inteli\\appdata\\local\\programs\\python\\python39\\lib\\site-packages (from jinja2->torch==2.1.1->torchvision) (2.1.3)\n",
      "Requirement already satisfied: charset-normalizer<4,>=2 in c:\\users\\inteli\\appdata\\local\\programs\\python\\python39\\lib\\site-packages (from requests->torchvision) (3.2.0)\n",
      "Requirement already satisfied: idna<4,>=2.5 in c:\\users\\inteli\\appdata\\local\\programs\\python\\python39\\lib\\site-packages (from requests->torchvision) (3.4)\n",
      "Requirement already satisfied: urllib3<3,>=1.21.1 in c:\\users\\inteli\\appdata\\local\\programs\\python\\python39\\lib\\site-packages (from requests->torchvision) (2.0.4)\n",
      "Requirement already satisfied: certifi>=2017.4.17 in c:\\users\\inteli\\appdata\\local\\programs\\python\\python39\\lib\\site-packages (from requests->torchvision) (2023.7.22)\n",
      "Requirement already satisfied: mpmath>=0.19 in c:\\users\\inteli\\appdata\\local\\programs\\python\\python39\\lib\\site-packages (from sympy->torch==2.1.1->torchvision) (1.3.0)\n",
      "Note: you may need to restart the kernel to use updated packages.\n"
     ]
    },
    {
     "name": "stderr",
     "output_type": "stream",
     "text": [
      "WARNING: You are using pip version 21.2.4; however, version 23.3.1 is available.\n",
      "You should consider upgrading via the 'c:\\Users\\Inteli\\AppData\\Local\\Programs\\Python\\Python39\\python.exe -m pip install --upgrade pip' command.\n"
     ]
    },
    {
     "name": "stdout",
     "output_type": "stream",
     "text": [
      "Requirement already satisfied: matplotlib in c:\\users\\inteli\\appdata\\local\\programs\\python\\python39\\lib\\site-packages (3.7.2)\n",
      "Requirement already satisfied: packaging>=20.0 in c:\\users\\inteli\\appdata\\roaming\\python\\python39\\site-packages (from matplotlib) (23.1)\n",
      "Requirement already satisfied: pillow>=6.2.0 in c:\\users\\inteli\\appdata\\local\\programs\\python\\python39\\lib\\site-packages (from matplotlib) (10.0.0)\n",
      "Requirement already satisfied: importlib-resources>=3.2.0 in c:\\users\\inteli\\appdata\\local\\programs\\python\\python39\\lib\\site-packages (from matplotlib) (6.0.1)\n",
      "Requirement already satisfied: cycler>=0.10 in c:\\users\\inteli\\appdata\\local\\programs\\python\\python39\\lib\\site-packages (from matplotlib) (0.11.0)\n",
      "Requirement already satisfied: contourpy>=1.0.1 in c:\\users\\inteli\\appdata\\local\\programs\\python\\python39\\lib\\site-packages (from matplotlib) (1.1.0)\n",
      "Requirement already satisfied: kiwisolver>=1.0.1 in c:\\users\\inteli\\appdata\\local\\programs\\python\\python39\\lib\\site-packages (from matplotlib) (1.4.5)\n",
      "Requirement already satisfied: python-dateutil>=2.7 in c:\\users\\inteli\\appdata\\roaming\\python\\python39\\site-packages (from matplotlib) (2.8.2)\n",
      "Requirement already satisfied: numpy>=1.20 in c:\\users\\inteli\\appdata\\local\\programs\\python\\python39\\lib\\site-packages (from matplotlib) (1.23.5)\n",
      "Requirement already satisfied: fonttools>=4.22.0 in c:\\users\\inteli\\appdata\\local\\programs\\python\\python39\\lib\\site-packages (from matplotlib) (4.42.1)\n",
      "Requirement already satisfied: pyparsing<3.1,>=2.3.1 in c:\\users\\inteli\\appdata\\local\\programs\\python\\python39\\lib\\site-packages (from matplotlib) (3.0.9)\n",
      "Requirement already satisfied: zipp>=3.1.0 in c:\\users\\inteli\\appdata\\roaming\\python\\python39\\site-packages (from importlib-resources>=3.2.0->matplotlib) (3.16.2)\n",
      "Requirement already satisfied: six>=1.5 in c:\\users\\inteli\\appdata\\roaming\\python\\python39\\site-packages (from python-dateutil>=2.7->matplotlib) (1.16.0)\n",
      "Note: you may need to restart the kernel to use updated packages.\n"
     ]
    },
    {
     "name": "stderr",
     "output_type": "stream",
     "text": [
      "WARNING: You are using pip version 21.2.4; however, version 23.3.1 is available.\n",
      "You should consider upgrading via the 'c:\\Users\\Inteli\\AppData\\Local\\Programs\\Python\\Python39\\python.exe -m pip install --upgrade pip' command.\n"
     ]
    },
    {
     "name": "stdout",
     "output_type": "stream",
     "text": [
      "Requirement already satisfied: numpy in c:\\users\\inteli\\appdata\\local\\programs\\python\\python39\\lib\\site-packages (1.23.5)\n",
      "Note: you may need to restart the kernel to use updated packages.\n"
     ]
    },
    {
     "name": "stderr",
     "output_type": "stream",
     "text": [
      "WARNING: You are using pip version 21.2.4; however, version 23.3.1 is available.\n",
      "You should consider upgrading via the 'c:\\Users\\Inteli\\AppData\\Local\\Programs\\Python\\Python39\\python.exe -m pip install --upgrade pip' command.\n"
     ]
    }
   ],
   "source": [
    "# instalando bibliotecas\n",
    "%pip install torch\n",
    "%pip install torchvision\n",
    "%pip install matplotlib\n",
    "%pip install numpy"
   ]
  },
  {
   "cell_type": "code",
   "execution_count": 2,
   "metadata": {},
   "outputs": [],
   "source": [
    "# importando bibliotecas\n",
    "import numpy as np\n",
    "import torch.nn.functional as F\n",
    "import torchvision\n",
    "import matplotlib.pyplot as plt \n",
    "from time import time\n",
    "from torchvision import datasets, transforms\n",
    "from torch import nn, optim"
   ]
  },
  {
   "cell_type": "markdown",
   "metadata": {},
   "source": [
    "## Convertendo dados - Tensor"
   ]
  },
  {
   "cell_type": "markdown",
   "metadata": {},
   "source": [
    "Tensor é como uma matriz, mas não existe um limite de dimensões, podendo estar entre 0 a n. A biblioteca transforma os dados em tensor, por isso iremos realizar a transformação"
   ]
  },
  {
   "cell_type": "code",
   "execution_count": 3,
   "metadata": {},
   "outputs": [],
   "source": [
    "\n",
    "import torch\n",
    "from torchvision import datasets, transforms\n",
    "# definindo a imagem para tensor\n",
    "transform = transforms.ToTensor()\n",
    "\n",
    "# treino do dataset\n",
    "trainset = datasets.MNIST('./MNIST_data/', download=True, train=True, transform=transform)\n",
    "# pegar os dados por parte\n",
    "trainloader = torch.utils.data.DataLoader(trainset, batch_size=64, shuffle=True)\n",
    "\n",
    "# teste do dataset\n",
    "testset = datasets.MNIST('./MNIST_data/', download=True, train=False, transform=transform)\n",
    "# pegar os dados por parte\n",
    "vallloader = torch.utils.data.DataLoader(testset, batch_size=64, shuffle=True)"
   ]
  },
  {
   "cell_type": "markdown",
   "metadata": {},
   "source": [
    "## Conferindo dados"
   ]
  },
  {
   "cell_type": "code",
   "execution_count": 4,
   "metadata": {},
   "outputs": [
    {
     "data": {
      "text/plain": [
       "<matplotlib.image.AxesImage at 0x2f8f14eff10>"
      ]
     },
     "execution_count": 4,
     "metadata": {},
     "output_type": "execute_result"
    },
    {
     "data": {
      "image/png": "[encoded data removed]",
      "text/plain": [
       "<Figure size 640x480 with 1 Axes>"
      ]
     },
     "metadata": {},
     "output_type": "display_data"
    }
   ],
   "source": [
    "# abrir um dos itens do dataset para visualizar formato\n",
    "dataiter = iter(trainloader)\n",
    "img, target = next(dataiter)\n",
    "plt.imshow(img[0].numpy().squeeze(), cmap='gray_r')\n"
   ]
  },
  {
   "cell_type": "code",
   "execution_count": 5,
   "metadata": {},
   "outputs": [
    {
     "name": "stdout",
     "output_type": "stream",
     "text": [
      "torch.Size([1, 28, 28])\n",
      "torch.Size([])\n"
     ]
    }
   ],
   "source": [
    "# analisando a dimensao do tensor imagem e tensor etiqueta\n",
    "# 1 = intensidade do preto em cada pixel\n",
    "# 28 = altura da imagem\n",
    "# 28 = largura da imagem\n",
    "print(img[0].shape)\n",
    "\n",
    "# etique nao possui dimensao por ser um escalar\n",
    "print(target[0].shape)"
   ]
  },
  {
   "cell_type": "markdown",
   "metadata": {},
   "source": [
    "## Adicionando elementos da RN"
   ]
  },
  {
   "cell_type": "markdown",
   "metadata": {},
   "source": [
    "Usaremos 3 funções de ativação: ReLU, ReLU e SoftMax"
   ]
  },
  {
   "cell_type": "code",
   "execution_count": 6,
   "metadata": {},
   "outputs": [],
   "source": [
    "class Modelo(nn.Module):\n",
    "    def __init__(self): \n",
    "        super(Modelo, self).__init__()\n",
    "        ## camada de entrada, 784 neurônios que se ligam a 128\n",
    "        self.linear1 = nn.Linear(784, 128)\n",
    "        ## camada oculta 1, 128 neurônios que se ligam a 64\n",
    "        self.linear2 = nn.Linear(128, 64)\n",
    "        ## camada oculta 2, 64 neurônios que se ligam a 10\n",
    "        self.linear3 = nn.Linear(64, 10)\n",
    "\n",
    "        # nao definimos a camada de saida pois pegamos ela a partir da camada 2\n",
    "\n",
    "    def forward(self, X):\n",
    "        # camada de entrada \n",
    "        X = F.relu(self.linear1(X))\n",
    "        # camada oculta 1\n",
    "        X = F.relu(self.linear2(X))\n",
    "        # camada oculta 2\n",
    "        X = self.linear3(X)\n",
    "        # camada de saida\n",
    "        return F.log_softmax(X, dim=1)\n"
   ]
  },
  {
   "cell_type": "markdown",
   "metadata": {},
   "source": [
    "## Estrutura de treino do modelo\n",
    "\n",
    "- Calcular a perda a partir da comparação entre as predições e as etiquetas(target) do subgrupo sendo analisado\n",
    "- Com a perda, calcular o gradiente em relação aos pesos e as bias\n",
    "- A partir do gradiente e de uma politica de otimização, atualizar os pesos e as bias "
   ]
  },
  {
   "cell_type": "markdown",
   "metadata": {},
   "source": [
    "### Otimizador\n",
    "\n",
    "A partir do optim é possível escolher qual otimizador usar para fazer as atualizações dos pesos e do bias."
   ]
  },
  {
   "cell_type": "code",
   "execution_count": 7,
   "metadata": {},
   "outputs": [],
   "source": [
    "# definindo funcao treino\n",
    "# interacao trainloader, back propagation e otimizador step sao repetidos ate que todo trainset seja percorrido   \n",
    "def treino(modelo, trainloader, device):\n",
    "    # definindo a funcao de perda e o otimizador do peso e do bias\n",
    "    otimizador = optim.SGD(modelo.parameters(), lr=0.01, momentum=0.5)\n",
    "    inicio = time()\n",
    "\n",
    "# definindo criterio para calcular a perda\n",
    "    criterio = nn.NLLLoss()\n",
    "    # numero de EPOCHS para treinar\n",
    "    EPOCHS = 30\n",
    "    # ativando treinamento do modelo\n",
    "    modelo.train()\n",
    "\n",
    "    for epoch in range(EPOCHS):\n",
    "        perda_acumulada = 0\n",
    "\n",
    "        for img, target in trainloader:\n",
    "            # convertendo as img para \"vetores\" 28*28 para serem compativeis com a entrada\n",
    "            img = img.view(img.shape[0], -1)\n",
    "            # zerando o gradiente para o proximo ciclo\n",
    "            otimizador.zero_grad()\n",
    "\n",
    "            # colocanndo os dados no modelo\n",
    "            output = modelo(img.to(device))\n",
    "            #calculando a perda da epoch atual\n",
    "            perda_instantanea = criterio(output, target.to(device))\n",
    "\n",
    "            # back propagation a partir da perda da epoch atual\n",
    "            perda_instantanea.backward()\n",
    "            # atualizando pesos e bias\n",
    "            otimizador.step()\n",
    "            #atualizacao da perda acumulada\n",
    "            perda_acumulada += perda_instantanea.item()\n",
    "        else:\n",
    "            print(\"Epoch {} - Perda resultante: {}\".format(epoch+1, perda_acumulada/len(trainloader)))\n",
    "            print(\"\\nTempo de treino (em minutos) =\",(time()-inicio)/60)"
   ]
  },
  {
   "cell_type": "code",
   "execution_count": 8,
   "metadata": {},
   "outputs": [],
   "source": [
    "# funcão de otimizacao do modelo para teste\n",
    "def validacao(modelo, valloader, device):\n",
    "    contas_corretas, conta_todas = 0, 0\n",
    "    for img, target in valloader:\n",
    "        for i in range(len(target)):\n",
    "            imgs = img[i].view(1, 784)\n",
    "            # desativer autograd. Grafos computacionais dinâmicos tem um custo alto de processamento\n",
    "            with torch.no_grad():\n",
    "                # saida do modelo em escala logaritmica\n",
    "                logps = modelo(imgs.to(device))\n",
    "\n",
    "            # converte saida escala normal (tensor)\n",
    "            ps = torch.exp(logps)   \n",
    "            # probabilidade de cada classe\n",
    "            probab = list(ps.cpu().numpy()[0])\n",
    "            # converte o tensor em numero,  o numero que previu correto\n",
    "            pred_label = probab.index(max(probab))\n",
    "            pred_certa = target.numpy()[i]\n",
    "            # compara se o numero previsto é igual ao numero real\n",
    "            if(pred_certa  == pred_label):\n",
    "                contas_corretas += 1\n",
    "            conta_todas += 1\n",
    "\n",
    "    print(\"Numero de imagens testadas =\", conta_todas)\n",
    "    print(\"\\nNumero de imagens previstas corretamente =\", contas_corretas)\n",
    "    print(\"\\nAcuracia do modelo =\", (contas_corretas*100)/conta_todas, \"%\")"
   ]
  },
  {
   "cell_type": "markdown",
   "metadata": {},
   "source": [
    "## Rodando Rede Neural"
   ]
  },
  {
   "cell_type": "code",
   "execution_count": 9,
   "metadata": {},
   "outputs": [
    {
     "data": {
      "text/plain": [
       "Modelo(\n",
       "  (linear1): Linear(in_features=784, out_features=128, bias=True)\n",
       "  (linear2): Linear(in_features=128, out_features=64, bias=True)\n",
       "  (linear3): Linear(in_features=64, out_features=10, bias=True)\n",
       ")"
      ]
     },
     "execution_count": 9,
     "metadata": {},
     "output_type": "execute_result"
    }
   ],
   "source": [
    "# inicializando o modelo\n",
    "modelo = Modelo()\n",
    "# definindo o dispositivo de processamento\n",
    "# modelo rodara na GPU se possivel, caso contrario, rodara na CPU\n",
    "device = torch.device(\"cuda\" if torch.cuda.is_available() else \"cpu\")\n",
    "modelo.to(device)"
   ]
  },
  {
   "cell_type": "code",
   "execution_count": 10,
   "metadata": {},
   "outputs": [
    {
     "name": "stdout",
     "output_type": "stream",
     "text": [
      "Epoch 1 - Perda resultante: 1.1826049812567005\n",
      "\n",
      "Tempo de treino (em minutos) = 0.12862290938695273\n",
      "Epoch 2 - Perda resultante: 0.37916405227329175\n",
      "\n",
      "Tempo de treino (em minutos) = 0.25092164278030393\n",
      "Epoch 3 - Perda resultante: 0.3120970111697722\n",
      "\n",
      "Tempo de treino (em minutos) = 0.3732879718144735\n",
      "Epoch 4 - Perda resultante: 0.2745448732530194\n",
      "\n",
      "Tempo de treino (em minutos) = 0.5090359012285869\n",
      "Epoch 5 - Perda resultante: 0.2454791111764369\n",
      "\n",
      "Tempo de treino (em minutos) = 0.6442544976870219\n",
      "Epoch 6 - Perda resultante: 0.2198330759644699\n",
      "\n",
      "Tempo de treino (em minutos) = 0.7697880427042644\n",
      "Epoch 7 - Perda resultante: 0.1981136041647717\n",
      "\n",
      "Tempo de treino (em minutos) = 0.8956608176231384\n",
      "Epoch 8 - Perda resultante: 0.17934395360555858\n",
      "\n",
      "Tempo de treino (em minutos) = 1.0229680101076761\n",
      "Epoch 9 - Perda resultante: 0.1632647673859557\n",
      "\n",
      "Tempo de treino (em minutos) = 1.1463393449783326\n",
      "Epoch 10 - Perda resultante: 0.14947747221705057\n",
      "\n",
      "Tempo de treino (em minutos) = 1.2711917718251546\n",
      "Epoch 11 - Perda resultante: 0.13751899516348964\n",
      "\n",
      "Tempo de treino (em minutos) = 1.429118847846985\n",
      "Epoch 12 - Perda resultante: 0.12626728050704641\n",
      "\n",
      "Tempo de treino (em minutos) = 1.5917763233184814\n",
      "Epoch 13 - Perda resultante: 0.11724310581173215\n",
      "\n",
      "Tempo de treino (em minutos) = 1.7488216598828634\n",
      "Epoch 14 - Perda resultante: 0.1097067356077847\n",
      "\n",
      "Tempo de treino (em minutos) = 1.8850895802179972\n",
      "Epoch 15 - Perda resultante: 0.10221175449803027\n",
      "\n",
      "Tempo de treino (em minutos) = 2.027287431557973\n",
      "Epoch 16 - Perda resultante: 0.09587355835962968\n",
      "\n",
      "Tempo de treino (em minutos) = 2.1604394833246867\n",
      "Epoch 17 - Perda resultante: 0.08988695456854888\n",
      "\n",
      "Tempo de treino (em minutos) = 2.3080206672350565\n",
      "Epoch 18 - Perda resultante: 0.08488160123907601\n",
      "\n",
      "Tempo de treino (em minutos) = 2.4674253344535826\n",
      "Epoch 19 - Perda resultante: 0.0796317253708601\n",
      "\n",
      "Tempo de treino (em minutos) = 2.6365625580151875\n",
      "Epoch 20 - Perda resultante: 0.07545781124339525\n",
      "\n",
      "Tempo de treino (em minutos) = 2.8084979613622028\n",
      "Epoch 21 - Perda resultante: 0.07153009357792672\n",
      "\n",
      "Tempo de treino (em minutos) = 2.9707063754399616\n",
      "Epoch 22 - Perda resultante: 0.06778814336821151\n",
      "\n",
      "Tempo de treino (em minutos) = 3.104121442635854\n",
      "Epoch 23 - Perda resultante: 0.06447344569008806\n",
      "\n",
      "Tempo de treino (em minutos) = 3.2397246877352397\n",
      "Epoch 24 - Perda resultante: 0.060937291742967706\n",
      "\n",
      "Tempo de treino (em minutos) = 3.3900141954421996\n",
      "Epoch 25 - Perda resultante: 0.05829297192444378\n",
      "\n",
      "Tempo de treino (em minutos) = 3.5501300136248273\n",
      "Epoch 26 - Perda resultante: 0.055567240676602354\n",
      "\n",
      "Tempo de treino (em minutos) = 3.700126834710439\n",
      "Epoch 27 - Perda resultante: 0.05298265724106312\n",
      "\n",
      "Tempo de treino (em minutos) = 3.8574125289916994\n",
      "Epoch 28 - Perda resultante: 0.050282138937424975\n",
      "\n",
      "Tempo de treino (em minutos) = 4.047352766990661\n",
      "Epoch 29 - Perda resultante: 0.04817927202759886\n",
      "\n",
      "Tempo de treino (em minutos) = 4.213299445311228\n",
      "Epoch 30 - Perda resultante: 0.045831562829827435\n",
      "\n",
      "Tempo de treino (em minutos) = 4.3454651713371275\n"
     ]
    }
   ],
   "source": [
    "# treinando o modelo\n",
    "treino(modelo, trainloader, device)"
   ]
  },
  {
   "cell_type": "code",
   "execution_count": 11,
   "metadata": {},
   "outputs": [
    {
     "name": "stdout",
     "output_type": "stream",
     "text": [
      "Numero de imagens testadas = 10000\n",
      "\n",
      "Numero de imagens previstas corretamente = 9749\n",
      "\n",
      "Acuracia do modelo = 97.49 %\n"
     ]
    }
   ],
   "source": [
    "# validando o modelo\n",
    "validacao(modelo, vallloader, device)\n",
    "\n"
   ]
  },
  {
   "cell_type": "markdown",
   "metadata": {},
   "source": [
    "### Visualizar uma predição aleatória"
   ]
  },
  {
   "cell_type": "code",
   "execution_count": 13,
   "metadata": {},
   "outputs": [],
   "source": [
    "def visualiza_pred(img, ps):\n",
    "\n",
    "    ps = ps.data.cpu().numpy().squeeze()\n",
    "\n",
    "    fig, (ax1, ax2) = plt.subplots(figsize=(6,9), ncols=2)\n",
    "    ax1.imshow(img.resize_(1, 28, 28).numpy().squeeze(), cmap='gray_r')\n",
    "    ax1.axis('off')\n",
    "    ax2.barh(np.arange(10), ps)\n",
    "    ax2.set_aspect(0.1)\n",
    "    ax2.set_yticks(np.arange(10))\n",
    "    ax2.set_yticklabels(np.arange(10))\n",
    "    ax2.set_title('Palpite')\n",
    "    ax2.set_xlim(0, 1.1)\n",
    "    plt.tight_layout()"
   ]
  },
  {
   "cell_type": "code",
   "execution_count": 31,
   "metadata": {},
   "outputs": [
    {
     "name": "stdout",
     "output_type": "stream",
     "text": [
      "Número previsto = 0\n"
     ]
    },
    {
     "data": {
      "image/png": "[encoded data removed]",
      "text/plain": [
       "<Figure size 600x900 with 2 Axes>"
      ]
     },
     "metadata": {},
     "output_type": "display_data"
    }
   ],
   "source": [
    "# Carrega um lote de imagens e etiquetas do conjunto de dados de treinamento\n",
    "imagens, etiquetas = next(iter(trainloader))\n",
    "# Seleciona a primeira imagem do lote e a redimensiona para um vetor de 784 elementos\n",
    "img = imagens[0].view(1, 784)\n",
    "# Desativa o cálculo do gradiente para acelerar a inferência\n",
    "with torch.no_grad():\n",
    "    # Passa a imagem pelo modelo e obtém os logaritmos das probabilidades das classes\n",
    "    logps = modelo(img.to(device))\n",
    "\n",
    "# Calcula as probabilidades das classes aplicando a função exponencial aos logaritmos\n",
    "ps = torch.exp(logps)\n",
    "# Converte as probabilidades em uma lista e encontra o índice da classe com maior probabilidade\n",
    "probab = list(ps.cpu().numpy()[0])\n",
    "print(\"Número previsto =\", probab.index(max(probab)))\n",
    "\n",
    "# Mostra a imagem e o gráfico de barras das probabilidades das classes\n",
    "visualiza_pred(img.view(1, 28, 28), ps)\n",
    "\n"
   ]
  },
  {
   "cell_type": "markdown",
   "metadata": {},
   "source": [
    "## Salvando modelo"
   ]
  },
  {
   "cell_type": "code",
   "execution_count": 32,
   "metadata": {},
   "outputs": [
    {
     "data": {
      "text/plain": [
       "Modelo(\n",
       "  (linear1): Linear(in_features=784, out_features=128, bias=True)\n",
       "  (linear2): Linear(in_features=128, out_features=64, bias=True)\n",
       "  (linear3): Linear(in_features=64, out_features=10, bias=True)\n",
       ")"
      ]
     },
     "execution_count": 32,
     "metadata": {},
     "output_type": "execute_result"
    }
   ],
   "source": [
    "# para salvar o modelo\n",
    "torch.save(modelo.state_dict(), './primeiro_modelo.pt')\n",
    "\n",
    "# para carregar o modelo\n",
    "modelo_carregado = Modelo()\n",
    "\n",
    "modelo_carregado.load_state_dict(torch.load('./primeiro_modelo.pt'))\n",
    "modelo_carregado.eval()\n",
    "modelo_carregado.to(device)"
   ]
  }
 ],
 "metadata": {
  "kernelspec": {
   "display_name": "Classificacao_numerica",
   "language": "python",
   "name": "python3"
  },
  "language_info": {
   "codemirror_mode": {
    "name": "ipython",
    "version": 3
   },
   "file_extension": ".py",
   "mimetype": "text/x-python",
   "name": "python",
   "nbconvert_exporter": "python",
   "pygments_lexer": "ipython3",
   "version": "3.9.9"
  }
 },
 "nbformat": 4,
 "nbformat_minor": 2
}
